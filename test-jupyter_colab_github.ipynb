{
 "cells": [
  {
   "cell_type": "markdown",
   "id": "78ba8246",
   "metadata": {},
   "source": [
    "for testing jupyter with github desktop, and colab"
   ]
  },
  {
   "cell_type": "code",
   "execution_count": 1,
   "id": "caa560c6",
   "metadata": {},
   "outputs": [
    {
     "name": "stdout",
     "output_type": "stream",
     "text": [
      "test\n"
     ]
    }
   ],
   "source": [
    "print('test')"
   ]
  },
  {
   "cell_type": "code",
   "execution_count": null,
   "id": "758ab765",
   "metadata": {},
   "outputs": [],
   "source": [
    "input(\"enter your name :\")"
   ]
  }
 ],
 "metadata": {
  "kernelspec": {
   "display_name": "Python 3 (ipykernel)",
   "language": "python",
   "name": "python3"
  },
  "language_info": {
   "codemirror_mode": {
    "name": "ipython",
    "version": 3
   },
   "file_extension": ".py",
   "mimetype": "text/x-python",
   "name": "python",
   "nbconvert_exporter": "python",
   "pygments_lexer": "ipython3",
   "version": "3.10.10"
  }
 },
 "nbformat": 4,
 "nbformat_minor": 5
}
